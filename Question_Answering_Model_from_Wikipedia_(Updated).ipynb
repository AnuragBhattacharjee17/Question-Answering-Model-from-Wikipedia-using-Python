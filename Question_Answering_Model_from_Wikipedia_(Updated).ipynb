{
  "nbformat": 4,
  "nbformat_minor": 0,
  "metadata": {
    "colab": {
      "name": "Question Answering Model from Wikipedia (Updated).ipynb",
      "provenance": [],
      "collapsed_sections": [],
      "toc_visible": true,
      "authorship_tag": "ABX9TyN1rQ5bZLuO7zB4rY5qi4jt",
      "include_colab_link": true
    },
    "kernelspec": {
      "name": "python3",
      "display_name": "Python 3"
    }
  },
  "cells": [
    {
      "cell_type": "markdown",
      "metadata": {
        "id": "view-in-github",
        "colab_type": "text"
      },
      "source": [
        "<a href=\"https://colab.research.google.com/github/AnuragBhattacharjee17/Question-Answering-Model-from-Wikipedia-using-Python/blob/master/Question_Answering_Model_from_Wikipedia_(Updated).ipynb\" target=\"_parent\"><img src=\"https://colab.research.google.com/assets/colab-badge.svg\" alt=\"Open In Colab\"/></a>"
      ]
    },
    {
      "cell_type": "code",
      "metadata": {
        "id": "G4ItVLQ9L7YG",
        "colab_type": "code",
        "outputId": "816bc33b-a118-480f-aee6-bab1b9e6d7c0",
        "colab": {
          "base_uri": "https://localhost:8080/",
          "height": 292
        }
      },
      "source": [
        "pip install wikipedia"
      ],
      "execution_count": 1,
      "outputs": [
        {
          "output_type": "stream",
          "text": [
            "Collecting wikipedia\n",
            "  Downloading https://files.pythonhosted.org/packages/67/35/25e68fbc99e672127cc6fbb14b8ec1ba3dfef035bf1e4c90f78f24a80b7d/wikipedia-1.4.0.tar.gz\n",
            "Requirement already satisfied: beautifulsoup4 in /usr/local/lib/python3.6/dist-packages (from wikipedia) (4.6.3)\n",
            "Requirement already satisfied: requests<3.0.0,>=2.0.0 in /usr/local/lib/python3.6/dist-packages (from wikipedia) (2.21.0)\n",
            "Requirement already satisfied: certifi>=2017.4.17 in /usr/local/lib/python3.6/dist-packages (from requests<3.0.0,>=2.0.0->wikipedia) (2019.11.28)\n",
            "Requirement already satisfied: urllib3<1.25,>=1.21.1 in /usr/local/lib/python3.6/dist-packages (from requests<3.0.0,>=2.0.0->wikipedia) (1.24.3)\n",
            "Requirement already satisfied: idna<2.9,>=2.5 in /usr/local/lib/python3.6/dist-packages (from requests<3.0.0,>=2.0.0->wikipedia) (2.8)\n",
            "Requirement already satisfied: chardet<3.1.0,>=3.0.2 in /usr/local/lib/python3.6/dist-packages (from requests<3.0.0,>=2.0.0->wikipedia) (3.0.4)\n",
            "Building wheels for collected packages: wikipedia\n",
            "  Building wheel for wikipedia (setup.py) ... \u001b[?25l\u001b[?25hdone\n",
            "  Created wheel for wikipedia: filename=wikipedia-1.4.0-cp36-none-any.whl size=11686 sha256=2c1605a4b240ad900e69f1c6d28bc3c73862ac307da767a2a64274b67ef01620\n",
            "  Stored in directory: /root/.cache/pip/wheels/87/2a/18/4e471fd96d12114d16fe4a446d00c3b38fb9efcb744bd31f4a\n",
            "Successfully built wikipedia\n",
            "Installing collected packages: wikipedia\n",
            "Successfully installed wikipedia-1.4.0\n"
          ],
          "name": "stdout"
        }
      ]
    },
    {
      "cell_type": "code",
      "metadata": {
        "id": "G1YLsdL2MCsE",
        "colab_type": "code",
        "outputId": "591ecbe6-78b9-471c-f05c-2f2c7bac9815",
        "colab": {
          "base_uri": "https://localhost:8080/",
          "height": 102
        }
      },
      "source": [
        "import nltk\n",
        "import re\n",
        "import wikipedia\n",
        "from nltk.corpus import stopwords \n",
        "from nltk.tokenize import word_tokenize \n",
        "nltk.download(\"punkt\")\n",
        "nltk.download(\"stopwords\")"
      ],
      "execution_count": 2,
      "outputs": [
        {
          "output_type": "stream",
          "text": [
            "[nltk_data] Downloading package punkt to /root/nltk_data...\n",
            "[nltk_data]   Unzipping tokenizers/punkt.zip.\n",
            "[nltk_data] Downloading package stopwords to /root/nltk_data...\n",
            "[nltk_data]   Unzipping corpora/stopwords.zip.\n"
          ],
          "name": "stdout"
        },
        {
          "output_type": "execute_result",
          "data": {
            "text/plain": [
              "True"
            ]
          },
          "metadata": {
            "tags": []
          },
          "execution_count": 2
        }
      ]
    },
    {
      "cell_type": "code",
      "metadata": {
        "id": "moFkzZ0TMHKM",
        "colab_type": "code",
        "outputId": "0ac78b58-a7a8-4c5e-8ded-494e1adc6d8e",
        "colab": {
          "base_uri": "https://localhost:8080/",
          "height": 122
        }
      },
      "source": [
        "pip install pyspellchecker"
      ],
      "execution_count": 3,
      "outputs": [
        {
          "output_type": "stream",
          "text": [
            "Collecting pyspellchecker\n",
            "\u001b[?25l  Downloading https://files.pythonhosted.org/packages/93/24/9a570f49dfefc16e9ce1f483bb2d5bff701b95094e051db502e3c11f5092/pyspellchecker-0.5.3-py2.py3-none-any.whl (1.9MB)\n",
            "\u001b[K     |████████████████████████████████| 1.9MB 4.8MB/s \n",
            "\u001b[?25hInstalling collected packages: pyspellchecker\n",
            "Successfully installed pyspellchecker-0.5.3\n"
          ],
          "name": "stdout"
        }
      ]
    },
    {
      "cell_type": "code",
      "metadata": {
        "id": "8ozx7k0SMSC7",
        "colab_type": "code",
        "outputId": "60d0b64d-b3dc-4487-9057-dc19dbe29260",
        "colab": {
          "base_uri": "https://localhost:8080/",
          "height": 54
        }
      },
      "source": [
        "complete_content=wikipedia.summary(\"google\")\n",
        "sentences = nltk.sent_tokenize(complete_content)\n",
        "print(sentences)"
      ],
      "execution_count": 4,
      "outputs": [
        {
          "output_type": "stream",
          "text": [
            "['Google LLC is an American multinational technology company that specializes in Internet-related services and products, which include online advertising technologies, search engine, cloud computing, software, and hardware.', 'It is considered one of the Big Four technology companies, alongside Amazon, Apple, and Facebook.Google was founded in September 1998 by Larry Page and Sergey Brin while they were Ph.D. students at Stanford University in California.', 'Together they own about 14 percent of its shares and control 56 percent of the stockholder voting power through supervoting stock.', 'They incorporated Google as a California privately held company on September 4, 1998, in California.', 'Google was then reincorporated in Delaware on October 22, 2002.', 'An initial public offering (IPO) took place on August 19, 2004, and Google moved to its headquarters in Mountain View, California, nicknamed the  Googleplex.', \"In August 2015, Google announced plans to reorganize its various interests as a conglomerate called Alphabet Inc. Google is Alphabet's leading subsidiary and will continue to be the umbrella company for Alphabet's Internet interests.\", 'Sundar Pichai was appointed CEO of Google, replacing Larry Page who became the CEO of Alphabet.', \"The company's rapid growth since incorporation has triggered a chain of products, acquisitions, and partnerships beyond Google's core search engine (Google Search).\", 'It offers services designed for work and productivity (Google Docs, Google Sheets, and Google Slides), email (Gmail), scheduling and time management (Google Calendar), cloud storage (Google Drive), instant messaging and video chat (Duo, Hangouts), language translation (Google Translate), mapping and navigation (Google Maps, Waze, Google Earth, Street View), video sharing (YouTube), note-taking (Google Keep), and photo organizing and editing (Google Photos).', 'The company leads the development of the Android mobile operating system, the Google Chrome web browser, and Chrome OS, a lightweight operating system based on the Chrome browser.', 'Google has moved increasingly into hardware; from 2010 to 2015, it partnered with major electronics manufacturers in the production of its Nexus devices, and it released multiple hardware products in October 2016, including the Google Pixel smartphone, Google Home smart speaker, Google Wifi mesh wireless router, and Google Daydream virtual reality headset.', 'Google has also experimented with becoming an Internet carrier (Google Fiber, Google Fi, and Google Station).Google.com is the most visited website in the world.', 'Several other Google services also figure in the top 100 most visited websites, including YouTube and Blogger.', 'Google was the most valuable brand in the world as of 2017, but has received significant criticism involving issues such as privacy concerns, tax avoidance, antitrust, censorship, and search neutrality.', 'Google\\'s mission statement is \"to organize the world\\'s information and make it universally accessible and useful\".', 'The company\\'s unofficial slogan \"Don\\'t be evil\" was removed from the company\\'s code of conduct around May 2018, but reinstated by July 31, 2018.']\n"
          ],
          "name": "stdout"
        }
      ]
    },
    {
      "cell_type": "code",
      "metadata": {
        "id": "hdz0g-b2MMt7",
        "colab_type": "code",
        "outputId": "7fed1b89-49ad-4699-a1f2-abecefcd21e9",
        "colab": {
          "base_uri": "https://localhost:8080/",
          "height": 34
        }
      },
      "source": [
        "def spelling(token,sent1):\n",
        "  from spellchecker import SpellChecker\n",
        "  spell = SpellChecker()\n",
        "  misspelled = spell.unknown(token)\n",
        "  misspelled= sorted(misspelled)\n",
        "  \n",
        "\n",
        "  new_word=[]\n",
        "  for word in misspelled:\n",
        "      # Get the one `most likely` answer\n",
        "      new_word.append(spell.correction(word))\n",
        "  length = len(misspelled)\n",
        "  for i in range(0,length):\n",
        "    sent1=sent1.replace(misspelled[i],new_word[i])\n",
        "  return(sent1)\n",
        "\n",
        "\n",
        "right_word=[]\n",
        "sent1 = \"When was Google apointed mosst valuble brand? \"\n",
        "token=word_tokenize(sent1)\n",
        "spelling(token,sent1)\n",
        "right_word.append(spelling(token,sent1))\n",
        "sent1=(right_word[0])\n",
        "sent1=sent1.lower()\n",
        "print(sent1)\n",
        "\n"
      ],
      "execution_count": 64,
      "outputs": [
        {
          "output_type": "stream",
          "text": [
            "when was google appointed most valuable brand? \n"
          ],
          "name": "stdout"
        }
      ]
    },
    {
      "cell_type": "code",
      "metadata": {
        "id": "Zog1457OMYEk",
        "colab_type": "code",
        "colab": {}
      },
      "source": [
        "from sklearn.feature_extraction.text import TfidfVectorizer\n",
        "import pandas as pd\n",
        "import scipy\n",
        "from scipy.spatial.distance import cosine"
      ],
      "execution_count": 0,
      "outputs": []
    },
    {
      "cell_type": "code",
      "metadata": {
        "id": "Vw3VhDVZMbVM",
        "colab_type": "code",
        "colab": {
          "base_uri": "https://localhost:8080/",
          "height": 54
        },
        "outputId": "852cb655-8c59-4d8e-ee3c-0f207fd4fe5d"
      },
      "source": [
        "def CheckSimilarity(sent,sent1):\n",
        "\n",
        "  tf_vectorizer = TfidfVectorizer()\n",
        "  tf_idf = tf_vectorizer.fit_transform([sent,sent1])\n",
        "  return(cosine(tf_idf[0].toarray(),tf_idf[1].toarray()))\n",
        "  \n",
        "list=[]\n",
        "for i in sentences:\n",
        "  sent=i.lower()\n",
        "  list.append(CheckSimilarity(sent,sent1))\n",
        "print(list)"
      ],
      "execution_count": 66,
      "outputs": [
        {
          "output_type": "stream",
          "text": [
            "[0.963462592689465, 0.934722280809711, 1.0, 0.9478904644295338, 0.8624563954441378, 0.9590642198576598, 0.9394848144789801, 0.8497702837130845, 0.9172772249802987, 0.8360952379666085, 0.974052615811612, 0.8810991059148298, 0.7910967963562783, 0.8968110146668613, 0.7882361060655252, 0.9525650766813183, 0.963462592689465]\n"
          ],
          "name": "stdout"
        }
      ]
    },
    {
      "cell_type": "code",
      "metadata": {
        "id": "bmX9yLjUMeGz",
        "colab_type": "code",
        "colab": {
          "base_uri": "https://localhost:8080/",
          "height": 54
        },
        "outputId": "4888be00-af19-4ecc-8dac-48ed590d9445"
      },
      "source": [
        "max_index = list.index(min(list))\n",
        "print(sentences[max_index])"
      ],
      "execution_count": 67,
      "outputs": [
        {
          "output_type": "stream",
          "text": [
            "Google was the most valuable brand in the world as of 2017, but has received significant criticism involving issues such as privacy concerns, tax avoidance, antitrust, censorship, and search neutrality.\n"
          ],
          "name": "stdout"
        }
      ]
    }
  ]
}