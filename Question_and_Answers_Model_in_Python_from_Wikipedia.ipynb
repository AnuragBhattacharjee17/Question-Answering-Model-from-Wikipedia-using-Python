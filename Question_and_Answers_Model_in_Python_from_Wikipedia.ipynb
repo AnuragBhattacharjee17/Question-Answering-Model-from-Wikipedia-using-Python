{
  "nbformat": 4,
  "nbformat_minor": 0,
  "metadata": {
    "colab": {
      "name": "Question and Answers Model in Python from Wikipedia.ipynb",
      "provenance": [],
      "collapsed_sections": [],
      "authorship_tag": "ABX9TyOfxdcpuaykokOIOGxCt7aK",
      "include_colab_link": true
    },
    "kernelspec": {
      "name": "python3",
      "display_name": "Python 3"
    }
  },
  "cells": [
    {
      "cell_type": "markdown",
      "metadata": {
        "id": "view-in-github",
        "colab_type": "text"
      },
      "source": [
        "<a href=\"https://colab.research.google.com/github/AnuragBhattacharjee17/Question-Answering-Model-from-Wikipedia-using-Python/blob/master/Question_and_Answers_Model_in_Python_from_Wikipedia.ipynb\" target=\"_parent\"><img src=\"https://colab.research.google.com/assets/colab-badge.svg\" alt=\"Open In Colab\"/></a>"
      ]
    },
    {
      "cell_type": "code",
      "metadata": {
        "id": "sBobIxbok5gh",
        "colab_type": "code",
        "colab": {}
      },
      "source": [
        "pip install wikipedia"
      ],
      "execution_count": 0,
      "outputs": []
    },
    {
      "cell_type": "code",
      "metadata": {
        "id": "X6NTwlWmY4JF",
        "colab_type": "code",
        "colab": {
          "base_uri": "https://localhost:8080/",
          "height": 102
        },
        "outputId": "993cd94a-272a-4b85-e826-a633e2c63e00"
      },
      "source": [
        "import nltk\n",
        "import re\n",
        "import wikipedia\n",
        "from nltk.corpus import stopwords \n",
        "from nltk.tokenize import word_tokenize \n",
        "nltk.download(\"punkt\")\n",
        "nltk.download(\"stopwords\")"
      ],
      "execution_count": 2,
      "outputs": [
        {
          "output_type": "stream",
          "text": [
            "[nltk_data] Downloading package punkt to /root/nltk_data...\n",
            "[nltk_data]   Unzipping tokenizers/punkt.zip.\n",
            "[nltk_data] Downloading package stopwords to /root/nltk_data...\n",
            "[nltk_data]   Unzipping corpora/stopwords.zip.\n"
          ],
          "name": "stdout"
        },
        {
          "output_type": "execute_result",
          "data": {
            "text/plain": [
              "True"
            ]
          },
          "metadata": {
            "tags": []
          },
          "execution_count": 2
        }
      ]
    },
    {
      "cell_type": "code",
      "metadata": {
        "id": "a1KNYinUZboI",
        "colab_type": "code",
        "colab": {}
      },
      "source": [
        "def splitParagraph(paragraph):\n",
        "  sentenceEnders = re.compile('[.!?]')\n",
        "  sentenceList = sentenceEnders.split(paragraph)\n",
        "  return sentenceList"
      ],
      "execution_count": 0,
      "outputs": []
    },
    {
      "cell_type": "code",
      "metadata": {
        "id": "jCWL-jopZedn",
        "colab_type": "code",
        "colab": {
          "base_uri": "https://localhost:8080/",
          "height": 54
        },
        "outputId": "2a307c15-2926-4601-f0c9-41aaac6b78e8"
      },
      "source": [
        "complete_content=wikipedia.summary(\"google\")\n",
        "sentences = splitParagraph(complete_content)\n",
        "sentences.pop()\n",
        "print(sentences)"
      ],
      "execution_count": 65,
      "outputs": [
        {
          "output_type": "stream",
          "text": [
            "['Google LLC is an American multinational technology company that specializes in Internet-related services and products, which include online advertising technologies, search engine, cloud computing, software, and hardware', ' It is considered one of the Big Four technology companies, alongside Amazon, Apple, and Facebook', 'Google was founded in September 1998 by Larry Page and Sergey Brin while they were Ph', 'D', ' students at Stanford University in California', ' Together they own about 14 percent of its shares and control 56 percent of the stockholder voting power through supervoting stock', ' They incorporated Google as a California privately held company on September 4, 1998, in California', ' Google was then reincorporated in Delaware on October 22, 2002', ' An initial public offering (IPO) took place on August 19, 2004, and Google moved to its headquarters in Mountain View, California, nicknamed the  Googleplex', ' In August 2015, Google announced plans to reorganize its various interests as a conglomerate called Alphabet Inc', \" Google is Alphabet's leading subsidiary and will continue to be the umbrella company for Alphabet's Internet interests\", ' Sundar Pichai was appointed CEO of Google, replacing Larry Page who became the CEO of Alphabet', \"\\nThe company's rapid growth since incorporation has triggered a chain of products, acquisitions, and partnerships beyond Google's core search engine (Google Search)\", ' It offers services designed for work and productivity (Google Docs, Google Sheets, and Google Slides), email (Gmail), scheduling and time management (Google Calendar), cloud storage (Google Drive), instant messaging and video chat (Duo, Hangouts), language translation (Google Translate), mapping and navigation (Google Maps, Waze, Google Earth, Street View), video sharing (YouTube), note-taking (Google Keep), and photo organizing and editing (Google Photos)', ' The company leads the development of the Android mobile operating system, the Google Chrome web browser, and Chrome OS, a lightweight operating system based on the Chrome browser', ' Google has moved increasingly into hardware; from 2010 to 2015, it partnered with major electronics manufacturers in the production of its Nexus devices, and it released multiple hardware products in October 2016, including the Google Pixel smartphone, Google Home smart speaker, Google Wifi mesh wireless router, and Google Daydream virtual reality headset', ' Google has also experimented with becoming an Internet carrier (Google Fiber, Google Fi, and Google Station)', 'Google', 'com is the most visited website in the world', ' Several other Google services also figure in the top 100 most visited websites, including YouTube and Blogger', ' Google was the most valuable brand in the world as of 2017, but has received significant criticism involving issues such as privacy concerns, tax avoidance, antitrust, censorship, and search neutrality', ' Google\\'s mission statement is \"to organize the world\\'s information and make it universally accessible and useful\"', ' The company\\'s unofficial slogan \"Don\\'t be evil\" was removed from the company\\'s code of conduct around May 2018, but reinstated by July 31, 2018']\n"
          ],
          "name": "stdout"
        }
      ]
    },
    {
      "cell_type": "code",
      "metadata": {
        "id": "pmMVpLk2hsHj",
        "colab_type": "code",
        "colab": {
          "base_uri": "https://localhost:8080/",
          "height": 34
        },
        "outputId": "8acfd8b9-7af9-48ce-8112-88afeb40dd1c"
      },
      "source": [
        "sent1=\"What services does it offers for work and productivity?\"\n",
        "sent1=sent1.lower()\n",
        "print(sent1)"
      ],
      "execution_count": 70,
      "outputs": [
        {
          "output_type": "stream",
          "text": [
            "what services does it offers for work and productivity?\n"
          ],
          "name": "stdout"
        }
      ]
    },
    {
      "cell_type": "code",
      "metadata": {
        "id": "uESCXaMSqbTX",
        "colab_type": "code",
        "colab": {}
      },
      "source": [
        "from sklearn.feature_extraction.text import CountVectorizer\n",
        "import pandas as pd\n",
        "import scipy\n",
        "from scipy.spatial.distance import cosine"
      ],
      "execution_count": 0,
      "outputs": []
    },
    {
      "cell_type": "code",
      "metadata": {
        "id": "rkYb5s6BZlDY",
        "colab_type": "code",
        "colab": {
          "base_uri": "https://localhost:8080/",
          "height": 88
        },
        "outputId": "59706b2b-9bb9-43d7-9e52-96c45241dd2f"
      },
      "source": [
        "def CheckSimilarity(sent,sent1):\n",
        "\n",
        "  count_vectorizer = CountVectorizer()\n",
        "  dtm = count_vectorizer.fit_transform([sent,sent1])\n",
        "  return(cosine(dtm[0].toarray(),dtm[1].toarray()))\n",
        "  # X_list = (word_tokenize(sent))\n",
        "  # Y_list = word_tokenize(sent1) \n",
        "  # l1=[]\n",
        "  # l2=[]\n",
        "\n",
        "  # sw = stopwords.words('english') \n",
        "  # X_set = {w for w in X_list if not w in sw}  \n",
        "  # Y_set = {w for w in Y_list if not w in sw} \n",
        "\n",
        "  # rvector = X_set.union(Y_set)  \n",
        "  # for w in rvector: \n",
        "  #     if w in X_set: l1.append(1) # create a vector \n",
        "  #     else: l1.append(0) \n",
        "  #     if w in Y_set: l2.append(1) \n",
        "  #     else: l2.append(0) \n",
        "  # c = 0\n",
        "\n",
        "  # # cosine formula  \n",
        "  # for i in range(len(rvector)): \n",
        "  #         c+= l1[i]*l2[i] \n",
        "  # cosine = c / float((sum(l1)*sum(l2))**0.5) \n",
        "  # return( cosine) \n",
        "\n",
        "\n",
        "list=[]\n",
        "for i in sentences:\n",
        "  sent=i.lower()\n",
        "  list.append(CheckSimilarity(sent,sent1))\n",
        "print(list)"
      ],
      "execution_count": 72,
      "outputs": [
        {
          "output_type": "stream",
          "text": [
            "[0.8174258141649446, 0.8278674068352259, 0.9166666666666666, nan, 1.0, 0.9333333333333333, 1.0, 1.0, 0.9319586182560229, 1.0, 0.8470561774196255, 1.0, 0.9333333333333333, 0.6904761904761905, 0.9566036963397254, 0.852757965233538, 0.9370059211651288, 1.0, 1.0, 0.8383095833091114, 0.942833804952497, 0.7642977396044842, 1.0]\n"
          ],
          "name": "stdout"
        },
        {
          "output_type": "stream",
          "text": [
            "/usr/local/lib/python3.6/dist-packages/scipy/spatial/distance.py:720: RuntimeWarning: invalid value encountered in double_scalars\n",
            "  dist = 1.0 - uv / np.sqrt(uu * vv)\n"
          ],
          "name": "stderr"
        }
      ]
    },
    {
      "cell_type": "code",
      "metadata": {
        "id": "yeHOXeYTkjXd",
        "colab_type": "code",
        "colab": {
          "base_uri": "https://localhost:8080/",
          "height": 54
        },
        "outputId": "f962204f-7145-48fd-851a-c46b84bca27b"
      },
      "source": [
        "max_index = list.index(min(list))\n",
        "print(sentences[max_index])"
      ],
      "execution_count": 73,
      "outputs": [
        {
          "output_type": "stream",
          "text": [
            " It offers services designed for work and productivity (Google Docs, Google Sheets, and Google Slides), email (Gmail), scheduling and time management (Google Calendar), cloud storage (Google Drive), instant messaging and video chat (Duo, Hangouts), language translation (Google Translate), mapping and navigation (Google Maps, Waze, Google Earth, Street View), video sharing (YouTube), note-taking (Google Keep), and photo organizing and editing (Google Photos)\n"
          ],
          "name": "stdout"
        }
      ]
    }
  ]
}